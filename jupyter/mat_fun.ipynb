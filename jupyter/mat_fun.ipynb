{
 "cells": [
  {
   "cell_type": "code",
   "execution_count": 1,
   "metadata": {},
   "outputs": [
    {
     "name": "stdout",
     "output_type": "stream",
     "text": [
      "Loaded:opencv_java411\n"
     ]
    }
   ],
   "source": [
    "%mavenRepo clojars https://clojars.org/repo/\n",
    "%maven origami:origami:4.1.1-9-SNAPSHOT\n",
    "\n",
    "import org.opencv.core.*;\n",
    "import org.opencv.imgcodecs.Imgcodecs;\n",
    "import org.opencv.imgproc.Imgproc;\n",
    "import java.io.IOException;\n",
    "import origami.Origami;\n",
    "Origami.init();"
   ]
  },
  {
   "cell_type": "code",
   "execution_count": 2,
   "metadata": {},
   "outputs": [
    {
     "data": {
      "text/plain": [
       "[255, 255, 128, 255, 255, 128, 255, 255, 128;\n",
       " 255, 255, 128, 255, 255, 128, 255, 255, 128;\n",
       " 255, 255, 128, 255, 255, 128, 255, 255, 128]"
      ]
     },
     "execution_count": 2,
     "metadata": {},
     "output_type": "execute_result"
    }
   ],
   "source": [
    "Mat image = new Mat(3,3, CvType.CV_32FC3, new Scalar(255,255,128));\n",
    "image.dump()"
   ]
  },
  {
   "cell_type": "code",
   "execution_count": 3,
   "metadata": {},
   "outputs": [
    {
     "data": {
      "text/plain": [
       "[255, 257, 228, 255, 257, 228, 255, 257, 228;\n",
       " 255, 257, 228, 255, 257, 228, 255, 257, 228;\n",
       " 255, 257, 228, 255, 257, 228, 255, 257, 228]"
      ]
     },
     "execution_count": 3,
     "metadata": {},
     "output_type": "execute_result"
    }
   ],
   "source": [
    "Mat res = new Mat();\n",
    "Core.add(image, new Scalar(0,2,100),res);\n",
    "res.dump()"
   ]
  },
  {
   "cell_type": "code",
   "execution_count": 4,
   "metadata": {},
   "outputs": [
    {
     "data": {
      "text/plain": [
       "[1, 1.0078431, 0.89411765, 1, 1.0078431, 0.89411765, 1, 1.0078431, 0.89411765;\n",
       " 1, 1.0078431, 0.89411765, 1, 1.0078431, 0.89411765, 1, 1.0078431, 0.89411765;\n",
       " 1, 1.0078431, 0.89411765, 1, 1.0078431, 0.89411765, 1, 1.0078431, 0.89411765]"
      ]
     },
     "execution_count": 4,
     "metadata": {},
     "output_type": "execute_result"
    }
   ],
   "source": [
    "Mat res2 = new Mat(image.size(), CvType.CV_32FC3);\n",
    "Core.divide(res, new Scalar(255,255,255),res2);\n",
    "res2.dump()"
   ]
  },
  {
   "cell_type": "code",
   "execution_count": 5,
   "metadata": {},
   "outputs": [
    {
     "data": {
      "text/plain": [
       "[1, 0.9922179, 1.1184211, 1, 0.9922179, 1.1184211, 1, 0.9922179, 1.1184211;\n",
       " 1, 0.9922179, 1.1184211, 1, 0.9922179, 1.1184211, 1, 0.9922179, 1.1184211;\n",
       " 1, 0.9922179, 1.1184211, 1, 0.9922179, 1.1184211, 1, 0.9922179, 1.1184211]"
      ]
     },
     "execution_count": 5,
     "metadata": {},
     "output_type": "execute_result"
    }
   ],
   "source": [
    "Core.divide(255.0, res, res2);\n",
    "res2.dump()"
   ]
  },
  {
   "cell_type": "code",
   "execution_count": 6,
   "metadata": {},
   "outputs": [
    {
     "ename": "EvalException",
     "evalue": "OpenCV(4.1.1) /Users/niko/origami-land/opencv-build/opencv/modules/core/src/minmax.cpp:765: error: (-215:Assertion failed) (cn == 1 && (_mask.empty() || _mask.type() == CV_8U)) || (cn > 1 && _mask.empty() && !minIdx && !maxIdx) in function 'minMaxIdx'\n",
     "output_type": "error",
     "traceback": [
      "\u001b[1m\u001b[31m---------------------------------------------------------------------------\u001b[0m",
      "\u001b[1m\u001b[31morg.opencv.core.CvException: OpenCV(4.1.1) /Users/niko/origami-land/opencv-build/opencv/modules/core/src/minmax.cpp:765: error: (-215:Assertion failed) (cn == 1 && (_mask.empty() || _mask.type() == CV_8U)) || (cn > 1 && _mask.empty() && !minIdx && !maxIdx) in function 'minMaxIdx'\u001b[0m",
      "\u001b[1m\u001b[31m\u001b[0m",
      "\u001b[1m\u001b[31m\tat org.opencv.core.Core.n_minMaxLocManual(Native Method)\u001b[0m",
      "\u001b[1m\u001b[31m\tat org.opencv.core.Core.minMaxLoc(Core.java:5699)\u001b[0m",
      "\u001b[1m\u001b[31m\tat org.opencv.core.Core.minMaxLoc(Core.java:5712)\u001b[0m",
      "\u001b[1m\u001b[31m\tat .(#34:1)\u001b[0m"
     ]
    }
   ],
   "source": [
    "Core.minMaxLoc(res2)"
   ]
  },
  {
   "cell_type": "code",
   "execution_count": null,
   "metadata": {},
   "outputs": [],
   "source": []
  }
 ],
 "metadata": {
  "kernelspec": {
   "display_name": "Java",
   "language": "java",
   "name": "java"
  },
  "language_info": {
   "codemirror_mode": "java",
   "file_extension": ".jshell",
   "mimetype": "text/x-java-source",
   "name": "Java",
   "pygments_lexer": "java",
   "version": "14-ea+24-1107"
  }
 },
 "nbformat": 4,
 "nbformat_minor": 2
}
