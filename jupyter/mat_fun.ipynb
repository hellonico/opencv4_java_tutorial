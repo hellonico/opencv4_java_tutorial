{
 "cells": [
  {
   "cell_type": "code",
   "execution_count": 33,
   "metadata": {
    "tags": []
   },
   "outputs": [
    {
     "name": "stdout",
     "output_type": "stream",
     "text": [
      "Loading: opencv_java470\n",
      "Already loaded: opencv_java470\n"
     ]
    }
   ],
   "source": [
    "%mavenRepo clojars https://clojars.org/repo/\n",
    "%maven origami:origami:4.7.0-5\n",
    "\n",
    "import org.opencv.core.*;\n",
    "import org.opencv.imgcodecs.Imgcodecs;\n",
    "import org.opencv.imgproc.Imgproc;\n",
    "import java.io.IOException;\n",
    "import origami.Origami;\n",
    "Origami.init();"
   ]
  },
  {
   "cell_type": "code",
   "execution_count": 22,
   "metadata": {
    "tags": []
   },
   "outputs": [
    {
     "data": {
      "text/plain": [
       "[255, 255, 255;\n",
       " 255, 255, 255;\n",
       " 255, 255, 255]"
      ]
     },
     "execution_count": 22,
     "metadata": {},
     "output_type": "execute_result"
    }
   ],
   "source": [
    "Mat image = new Mat(3,3, CvType.CV_32FC1, new Scalar(255));\n",
    "image.dump()"
   ]
  },
  {
   "cell_type": "code",
   "execution_count": 42,
   "metadata": {
    "tags": []
   },
   "outputs": [
    {
     "data": {
      "text/plain": [
       "[251, 251, 251;\n",
       " 251, 251, 251;\n",
       " 251, 251, 251]"
      ]
     },
     "execution_count": 42,
     "metadata": {},
     "output_type": "execute_result"
    }
   ],
   "source": [
    "Mat res = new Mat();\n",
    "Core.add(image, new Scalar(-4),res);\n",
    "res.dump()"
   ]
  },
  {
   "cell_type": "code",
   "execution_count": 45,
   "metadata": {
    "tags": []
   },
   "outputs": [
    {
     "data": {
      "text/plain": [
       "[0.98431373, 0.98431373, 0.98431373;\n",
       " 0.98431373, 0.98431373, 0.98431373;\n",
       " 0.98431373, 0.98431373, 0.98431373]"
      ]
     },
     "execution_count": 45,
     "metadata": {},
     "output_type": "execute_result"
    }
   ],
   "source": [
    "Mat res2 = new Mat(image.size(), CvType.CV_32FC1);\n",
    "Core.divide(res, new Scalar(255,250,250),res2);\n",
    "res2.dump()"
   ]
  },
  {
   "cell_type": "code",
   "execution_count": 46,
   "metadata": {
    "tags": []
   },
   "outputs": [
    {
     "data": {
      "text/plain": [
       "[1.0159363, 1.0159363, 1.0159363;\n",
       " 1.0159363, 1.0159363, 1.0159363;\n",
       " 1.0159363, 1.0159363, 1.0159363]"
      ]
     },
     "execution_count": 46,
     "metadata": {},
     "output_type": "execute_result"
    }
   ],
   "source": [
    "Core.divide(255.0, res, res2);\n",
    "res2.dump()"
   ]
  },
  {
   "cell_type": "code",
   "execution_count": 49,
   "metadata": {
    "tags": []
   },
   "outputs": [
    {
     "data": {
      "text/plain": [
       "[1.0159363, 1.0159363, 1.0159363]"
      ]
     },
     "execution_count": 49,
     "metadata": {},
     "output_type": "execute_result"
    }
   ],
   "source": [
    "res2.row(0).dump();"
   ]
  },
  {
   "cell_type": "code",
   "execution_count": 48,
   "metadata": {
    "tags": []
   },
   "outputs": [
    {
     "data": {
      "text/plain": [
       "1.015936255455017"
      ]
     },
     "execution_count": 48,
     "metadata": {},
     "output_type": "execute_result"
    }
   ],
   "source": [
    "Core.minMaxLoc(res2).maxVal;\n",
    "Core.minMaxLoc(res2).minVal;"
   ]
  },
  {
   "cell_type": "code",
   "execution_count": null,
   "metadata": {},
   "outputs": [],
   "source": []
  }
 ],
 "metadata": {
  "kernelspec": {
   "display_name": "Java",
   "language": "java",
   "name": "java"
  },
  "language_info": {
   "codemirror_mode": "java",
   "file_extension": ".jshell",
   "mimetype": "text/x-java-source",
   "name": "Java",
   "pygments_lexer": "java",
   "version": "11.0.11+9-LTS"
  }
 },
 "nbformat": 4,
 "nbformat_minor": 4
}
