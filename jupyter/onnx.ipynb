{
 "cells": [
  {
   "cell_type": "code",
   "execution_count": 6,
   "metadata": {},
   "outputs": [],
   "source": [
    "import numpy as np\n",
    "import argparse\n",
    "import imutils\n",
    "import sys\n",
    "import cv2"
   ]
  },
  {
   "cell_type": "code",
   "execution_count": 7,
   "metadata": {},
   "outputs": [],
   "source": [
    "SAMPLE_DURATION = 16\n",
    "SAMPLE_SIZE = 112"
   ]
  },
  {
   "cell_type": "code",
   "execution_count": 8,
   "metadata": {},
   "outputs": [],
   "source": [
    "CLASSES=open(\"../data/human-activity-recognition/action_recognition_kinetics.txt\").read().strip().split(\"\\n\")"
   ]
  },
  {
   "cell_type": "code",
   "execution_count": 9,
   "metadata": {},
   "outputs": [],
   "source": [
    "net = cv2.dnn.readNet(\"../data/human-activity-recognition/resnet-34_kinetics.onnx\")"
   ]
  },
  {
   "cell_type": "code",
   "execution_count": 10,
   "metadata": {},
   "outputs": [],
   "source": [
    "# vs = cv2.VideoCapture(0)\n",
    "vs = cv2.VideoCapture(\"../data/human-activity-recognition/example_activities.mp4\")"
   ]
  },
  {
   "cell_type": "code",
   "execution_count": null,
   "metadata": {},
   "outputs": [],
   "source": [
    "while True:\n",
    "\t# initialize the batch of frames that will be passed through the\n",
    "\t# model\n",
    "\tframes = []\n",
    "\n",
    "\t# loop over the number of required sample frames\n",
    "\tfor i in range(0, SAMPLE_DURATION):\n",
    "\t\t# read a frame from the video stream\n",
    "\t\t(grabbed, frame) = vs.read()\n",
    "\n",
    "\t\t# otherwise, the frame was read so resize it and add it to\n",
    "\t\t# our frames list\n",
    "\t\tframe = imutils.resize(frame, width=400)\n",
    "\t\tframes.append(frame)\n",
    "\n",
    "\t# now that our frames array is filled we can construct our blob\n",
    "\tblob = cv2.dnn.blobFromImages(frames, 1.0,\n",
    "\t\t(SAMPLE_SIZE, SAMPLE_SIZE), (114.7748, 107.7354, 99.4750),\n",
    "\t\tswapRB=True, crop=True)\n",
    "    \n",
    "\tblob = np.transpose(blob, (1, 0, 2, 3))\n",
    "\tblob = np.expand_dims(blob, axis=0)\n",
    "\n",
    "\t# pass the blob through the network to obtain our human activity\n",
    "\t# recognition predictions\n",
    "\tnet.setInput(blob)\n",
    "\toutputs = net.forward()\n",
    "\tlabel = CLASSES[np.argmax(outputs)]\n",
    "\n",
    "\t# loop over our frames\n",
    "\tfor frame in frames:\n",
    "\t\t# draw the predicted activity on the frame\n",
    "\t\tcv2.rectangle(frame, (0, 0), (300, 40), (0, 0, 0), -1)\n",
    "\t\tcv2.putText(frame, label, (10, 25), cv2.FONT_HERSHEY_SIMPLEX,\n",
    "\t\t\t0.8, (255, 255, 255), 2)\n",
    "\n",
    "\t\t# display the frame to our screen\n",
    "\t\tcv2.imshow(\"Activity Recognition\", frame)\n",
    "\t\tkey = cv2.waitKey(100) \n",
    "\n",
    "\t\t# if the `q` key was pressed, break from the loop\n",
    "\t\tif key == ord(\"q\"):\n",
    "\t\t\tbreak"
   ]
  },
  {
   "cell_type": "code",
   "execution_count": null,
   "metadata": {},
   "outputs": [],
   "source": []
  }
 ],
 "metadata": {
  "kernelspec": {
   "display_name": "Python 3",
   "language": "python",
   "name": "python3"
  },
  "language_info": {
   "codemirror_mode": {
    "name": "ipython",
    "version": 3
   },
   "file_extension": ".py",
   "mimetype": "text/x-python",
   "name": "python",
   "nbconvert_exporter": "python",
   "pygments_lexer": "ipython3",
   "version": "3.7.4"
  }
 },
 "nbformat": 4,
 "nbformat_minor": 2
}
