{
 "cells": [
  {
   "cell_type": "code",
   "execution_count": 1,
   "id": "54949323",
   "metadata": {
    "tags": []
   },
   "outputs": [
    {
     "name": "stdout",
     "output_type": "stream",
     "text": [
      "Loading:opencv_java470 from:natives/osx_64/\n",
      "Loaded: opencv_java470\n"
     ]
    }
   ],
   "source": [
    "%mavenRepo clojars https://clojars.org/repo/\n",
    "%mavenRepo hellonico https://repository.hellonico.info/repository/hellonico/\n",
    "%maven origami:origami:4.7.0-6\n",
    "%maven origami:filters:1.34\n",
    "\n",
    "import origami.Origami;\n",
    "import origami.Filter;\n",
    "import org.opencv.imgcodecs.Imgcodecs;\n",
    "import org.opencv.core.*;\n",
    "import origami.filters.detect.yolo.MyYolo;\n",
    "Origami.init();"
   ]
  },
  {
   "cell_type": "code",
   "execution_count": 8,
   "id": "ee5a304b",
   "metadata": {
    "tags": []
   },
   "outputs": [
    {
     "data": {
      "text/plain": [
       "3"
      ]
     },
     "execution_count": 8,
     "metadata": {},
     "output_type": "execute_result"
    }
   ],
   "source": [
    "String url = \"https://raw.githubusercontent.com/hellonico/origami-dnn/master/resources/marcel.jpg\";\n",
    "Mat marcel = Origami.urlToMat(url);\n",
    "marcel.channels();"
   ]
  },
  {
   "cell_type": "code",
   "execution_count": 9,
   "id": "fbd548be",
   "metadata": {
    "tags": []
   },
   "outputs": [
    {
     "name": "stdout",
     "output_type": "stream",
     "text": [
      "Loading network: networks.yolo:yolov2:1.0.0\n",
      "Loaded: #object[org.opencv.dnn.Net 0x71eff3ea org.opencv.dnn.Net@71eff3ea]\n",
      "Loading labels: /Users/niko/.origami/yolov2-1.0.0.zip/yolov2/coco.names\n"
     ]
    },
    {
     "ename": "EvalException",
     "evalue": "cv::Exception: OpenCV(4.7.0) /Users/niko/origami-land/opencv-native/opencv/modules/dnn/src/layers/fast_convolution/winograd_3x3s1_f63.cpp:147: error: (-215:Assertion failed) _FX_WINO_IBLOCK == 3 && _FX_WINO_KBLOCK == 4 in function '_fx_winograd_accum_f32'\n",
     "output_type": "error",
     "traceback": [
      "\u001b[1m\u001b[31m---------------------------------------------------------------------------\u001b[0m",
      "\u001b[1m\u001b[31morg.opencv.core.CvException: cv::Exception: OpenCV(4.7.0) /Users/niko/origami-land/opencv-native/opencv/modules/dnn/src/layers/fast_convolution/winograd_3x3s1_f63.cpp:147: error: (-215:Assertion failed) _FX_WINO_IBLOCK == 3 && _FX_WINO_KBLOCK == 4 in function '_fx_winograd_accum_f32'\u001b[0m",
      "\u001b[1m\u001b[31m\u001b[0m",
      "\u001b[1m\u001b[31m\tat org.opencv.dnn.Net.forward_4(Native Method)\u001b[0m",
      "\u001b[1m\u001b[31m\tat org.opencv.dnn.Net.forward(Net.java:322)\u001b[0m",
      "\u001b[1m\u001b[31m\tat origami.filters.detect.yolo.Yolo.findShapes(Yolo.java:64)\u001b[0m",
      "\u001b[1m\u001b[31m\tat origami.filters.detect.yolo.Yolo.apply(Yolo.java:44)\u001b[0m",
      "\u001b[1m\u001b[31m\tat .(#33:1)\u001b[0m"
     ]
    }
   ],
   "source": [
    "MyYolo.V2 f = new MyYolo.V2();\n",
    "Mat output = f.apply(marcel);\n",
    "Imgcodecs.imwrite(\"yolo.jpg\",output);"
   ]
  },
  {
   "cell_type": "code",
   "execution_count": null,
   "id": "c54f1457",
   "metadata": {
    "tags": []
   },
   "outputs": [],
   "source": []
  },
  {
   "cell_type": "code",
   "execution_count": null,
   "id": "e5b39b7b",
   "metadata": {},
   "outputs": [],
   "source": []
  },
  {
   "cell_type": "code",
   "execution_count": null,
   "id": "93d37625",
   "metadata": {},
   "outputs": [],
   "source": []
  }
 ],
 "metadata": {
  "kernelspec": {
   "display_name": "Java",
   "language": "java",
   "name": "java"
  },
  "language_info": {
   "codemirror_mode": "java",
   "file_extension": ".jshell",
   "mimetype": "text/x-java-source",
   "name": "Java",
   "pygments_lexer": "java",
   "version": "11.0.11+9-LTS"
  }
 },
 "nbformat": 4,
 "nbformat_minor": 5
}
