{
 "cells": [
  {
   "cell_type": "code",
   "execution_count": 8,
   "metadata": {},
   "outputs": [
    {
     "name": "stdout",
     "output_type": "stream",
     "text": [
      "Instagram Filter Remake: Gotham\n"
     ]
    },
    {
     "name": "stderr",
     "output_type": "stream",
     "text": [
      "Lossy conversion from float64 to uint8. Range [0, 1]. Convert image to uint8 prior to saving to suppress this warning.\n",
      "Lossy conversion from float64 to uint8. Range [0, 1]. Convert image to uint8 prior to saving to suppress this warning.\n",
      "Lossy conversion from float64 to uint8. Range [0, 1]. Convert image to uint8 prior to saving to suppress this warning.\n",
      "Lossy conversion from float64 to uint8. Range [0, 1]. Convert image to uint8 prior to saving to suppress this warning.\n",
      "Lossy conversion from float64 to uint8. Range [0, 1]. Convert image to uint8 prior to saving to suppress this warning.\n",
      "Lossy conversion from float64 to uint8. Range [0, 1]. Convert image to uint8 prior to saving to suppress this warning.\n"
     ]
    }
   ],
   "source": [
    "# from\n",
    "# https://github.com/lukexyz/CV-Instagram-Filters/blob/master/gotham.py#L40\n",
    "\n",
    "import skimage\n",
    "from skimage import io, filters\n",
    "# from skimage.viewer import ImageViewer\n",
    "import numpy as np\n",
    "\n",
    "print('Instagram Filter Remake: Gotham')\n",
    "original_image = skimage.io.imread('../data/marcel2019.jpg')\n",
    "original_image = skimage.util.img_as_float(original_image)\n",
    "skimage.io.imsave('images/0_original.jpg', original_image)\n",
    "\n",
    "def split_image_into_channels(image):\n",
    "    \"\"\"Look at each image separately\"\"\"\n",
    "    red_channel = image[:, :, 0]\n",
    "    green_channel = image[:, :, 1]\n",
    "    blue_channel = image[:, :, 2]\n",
    "    return red_channel, green_channel, blue_channel\n",
    "\n",
    "\n",
    "def merge_channels(red, green, blue):\n",
    "    \"\"\"Merge channels back into an image\"\"\"\n",
    "    return np.stack([red, green, blue], axis=2)\n",
    "\n",
    "r, g, b = split_image_into_channels(original_image)\n",
    "im = merge_channels(r, g, b)\n",
    "\n",
    "\n",
    "def sharpen(image, a, b):\n",
    "    \"\"\"Sharpening an image: Blur and then subtract from original\"\"\"\n",
    "    blurred = filters.gaussian(image, sigma=10, multichannel=True)\n",
    "    sharper = np.clip(image * a - blurred * b, 0, 1.0)\n",
    "    return sharper\n",
    "\n",
    "\n",
    "def channel_adjust(channel, values):\n",
    "    # preserve the original size, so we can reconstruct at the end\n",
    "    orig_size = channel.shape\n",
    "    # flatten the image into a single array\n",
    "    flat_channel = channel.flatten()\n",
    "\n",
    "    # this magical numpy function takes the values in flat_channel\n",
    "    # and maps it from its range in [0, 1] to its new squeezed and\n",
    "    # stretched range\n",
    "    adjusted = np.interp(flat_channel, np.linspace(0, 1, len(values)), values)\n",
    "\n",
    "    # put back into the original image shape\n",
    "    return adjusted.reshape(orig_size)\n",
    "\n",
    "# 1. Colour channel adjustment example\n",
    "r, g, b = split_image_into_channels(original_image)\n",
    "r_interp = channel_adjust(r, [0, 0.8, 1.0])\n",
    "red_channel_adj = merge_channels(r_interp, g, b)\n",
    "skimage.io.imsave('images/1_red_channel_adj.jpg', red_channel_adj)\n",
    "\n",
    "# 2. Mid tone colour boost\n",
    "r, g, b = split_image_into_channels(original_image)\n",
    "r_boost_lower = channel_adjust(r, [0, 0.05, 0.1, 0.2, 0.3, 0.5, 0.7, 0.8, 0.9, 0.95, 1.0])\n",
    "r_boost_img = merge_channels(r_boost_lower, g, b)\n",
    "skimage.io.imsave('images/2_mid_tone_colour_boost.jpg', r_boost_img)\n",
    "\n",
    "# 3. Making the blacks bluer\n",
    "bluer_blacks = merge_channels(r_boost_lower, g, np.clip(b + 0.03, 0, 1.0))\n",
    "skimage.io.imsave('images/3_bluer_blacks.jpg', bluer_blacks)\n",
    "\n",
    "# 4. Sharpening the image\n",
    "sharper = sharpen(bluer_blacks, 1.3, 0.3)\n",
    "skimage.io.imsave('images/4_sharpened.jpg', sharper)\n",
    "\n",
    "# 5. Blue channel boost in lower-mids, decrease in upper-mids\n",
    "r, g, b = split_image_into_channels(sharper)\n",
    "b_adjusted = channel_adjust(b, [0, 0.047, 0.118, 0.251, 0.318, 0.392, 0.42, 0.439, 0.475, 0.561, 0.58, 0.627, 0.671, 0.733, 0.847, 0.925, 1])\n",
    "gotham = merge_channels(r, g, b_adjusted)\n",
    "skimage.io.imsave('images/5_blue_adjusted.jpg', gotham)"
   ]
  }
 ],
 "metadata": {
  "kernelspec": {
   "display_name": "Python 3",
   "language": "python",
   "name": "python3"
  },
  "language_info": {
   "codemirror_mode": {
    "name": "ipython",
    "version": 3
   },
   "file_extension": ".py",
   "mimetype": "text/x-python",
   "name": "python",
   "nbconvert_exporter": "python",
   "pygments_lexer": "ipython3",
   "version": "3.7.4"
  }
 },
 "nbformat": 4,
 "nbformat_minor": 2
}
